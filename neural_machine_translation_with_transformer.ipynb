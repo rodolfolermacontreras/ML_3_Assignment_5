{
  "cells": [
    {
      "cell_type": "markdown",
      "metadata": {
        "id": "oo21fgTGurcb"
      },
      "source": [
        "# English-to-Spanish translation with a sequence-to-sequence Transformer\n",
        "\n",
        "**Author:** [fchollet](https://twitter.com/fchollet)<br>\n",
        "**Date created:** 2021/05/26<br>\n",
        "**Last modified:** 2021/05/26<br>\n",
        "**Description:** Implementing a sequence-to-sequene Transformer and training it on a machine translation task."
      ]
    },
    {
      "cell_type": "markdown",
      "metadata": {
        "id": "NtvZeYoIurcd"
      },
      "source": [
        "## Introduction\n",
        "\n",
        "In this example, we'll build a sequence-to-sequence Transformer model, which\n",
        "we'll train on an English-to-Spanish machine translation task.\n",
        "\n",
        "You'll learn how to:\n",
        "\n",
        "- Vectorize text using the Keras `TextVectorization` layer.\n",
        "- Implement a `TransformerEncoder` layer, a `TransformerDecoder` layer,\n",
        "and a `PositionalEmbedding` layer.\n",
        "- Prepare data for training a sequence-to-sequence model.\n",
        "- Use the trained model to generate translations of never-seen-before\n",
        "input sentences (sequence-to-sequence inference).\n",
        "\n",
        "The code featured here is adapted from the book\n",
        "[Deep Learning with Python, Second Edition](https://www.manning.com/books/deep-learning-with-python-second-edition)\n",
        "(chapter 11: Deep learning for text).\n",
        "The present example is fairly barebones, so for detailed explanations of\n",
        "how each building block works, as well as the theory behind Transformers,\n",
        "I recommend reading the book."
      ]
    },
    {
      "cell_type": "markdown",
      "metadata": {
        "id": "sg-DD5KLurcf"
      },
      "source": [
        "## Setup"
      ]
    },
    {
      "cell_type": "code",
      "execution_count": 1,
      "metadata": {
        "id": "uK1iB3yKurcg"
      },
      "outputs": [],
      "source": [
        "import pathlib\n",
        "import random\n",
        "import string\n",
        "import re\n",
        "import numpy as np\n",
        "import tensorflow as tf\n",
        "from tensorflow import keras\n",
        "from tensorflow.keras import layers\n",
        "from tensorflow.keras.layers import TextVectorization"
      ]
    },
    {
      "cell_type": "markdown",
      "metadata": {
        "id": "JrC-mvGpurcg"
      },
      "source": [
        "## Downloading the data\n",
        "\n",
        "We'll be working with an English-to-Spanish translation dataset\n",
        "provided by [Anki](https://www.manythings.org/anki/). Let's download it:"
      ]
    },
    {
      "cell_type": "code",
      "execution_count": 2,
      "metadata": {
        "id": "nmxEq1mxurch"
      },
      "outputs": [],
      "source": [
        "text_file = keras.utils.get_file(\n",
        "    fname=\"spa-eng.zip\",\n",
        "    origin=\"http://storage.googleapis.com/download.tensorflow.org/data/spa-eng.zip\",\n",
        "    extract=True,\n",
        ")\n",
        "text_file = pathlib.Path(text_file).parent / \"spa-eng\" / \"spa.txt\""
      ]
    },
    {
      "cell_type": "markdown",
      "metadata": {
        "id": "WbKRsrYSurci"
      },
      "source": [
        "## Parsing the data\n",
        "\n",
        "Each line contains an English sentence and its corresponding Spanish sentence.\n",
        "The English sentence is the *source sequence* and Spanish one is the *target sequence*.\n",
        "We prepend the token `\"[start]\"` and we append the token `\"[end]\"` to the Spanish sentence."
      ]
    },
    {
      "cell_type": "code",
      "execution_count": 3,
      "metadata": {
        "id": "Pz13Q-j5urci"
      },
      "outputs": [],
      "source": [
        "with open(text_file) as f:\n",
        "    lines = f.read().split(\"\\n\")[:-1]\n",
        "text_pairs = []\n",
        "for line in lines:\n",
        "    eng, spa = line.split(\"\\t\")\n",
        "    spa = \"[start] \" + spa + \" [end]\"\n",
        "    text_pairs.append((eng, spa))"
      ]
    },
    {
      "cell_type": "markdown",
      "metadata": {
        "id": "c1ff2vA2urcj"
      },
      "source": [
        "Here's what our sentence pairs look like:"
      ]
    },
    {
      "cell_type": "code",
      "execution_count": 4,
      "metadata": {
        "colab": {
          "base_uri": "https://localhost:8080/"
        },
        "id": "iZWYibhqurck",
        "outputId": "9f4e4c14-8415-448e-aea0-a43fef34af5c"
      },
      "outputs": [
        {
          "output_type": "stream",
          "name": "stdout",
          "text": [
            "('I remember the day you were born very well.', '[start] Me acuerdo muy bien del día en que naciste. [end]')\n",
            "(\"I know you don't care.\", '[start] Sé que no te interesa. [end]')\n",
            "('I can do that.', '[start] Yo puedo hacer eso. [end]')\n",
            "(\"My watch stopped, so I didn't know the time.\", '[start] Mi reloj se paró así que no sabía que hora era. [end]')\n",
            "('I meant to call her, but I forgot to.', '[start] Pretendía llamarla, pero se me olvidó. [end]')\n"
          ]
        }
      ],
      "source": [
        "for _ in range(5):\n",
        "    print(random.choice(text_pairs))"
      ]
    },
    {
      "cell_type": "markdown",
      "metadata": {
        "id": "CJBKmXiRurck"
      },
      "source": [
        "Now, let's split the sentence pairs into a training set, a validation set,\n",
        "and a test set."
      ]
    },
    {
      "cell_type": "code",
      "execution_count": 5,
      "metadata": {
        "colab": {
          "base_uri": "https://localhost:8080/"
        },
        "id": "E-cWYwszurcl",
        "outputId": "d2c92d3e-25e8-4791-9298-c11f73e40842"
      },
      "outputs": [
        {
          "output_type": "stream",
          "name": "stdout",
          "text": [
            "118964 total pairs\n",
            "83276 training pairs\n",
            "17844 validation pairs\n",
            "17844 test pairs\n"
          ]
        }
      ],
      "source": [
        "random.shuffle(text_pairs)\n",
        "num_val_samples = int(0.15 * len(text_pairs))\n",
        "num_train_samples = len(text_pairs) - 2 * num_val_samples\n",
        "train_pairs = text_pairs[:num_train_samples]\n",
        "val_pairs = text_pairs[num_train_samples : num_train_samples + num_val_samples]\n",
        "test_pairs = text_pairs[num_train_samples + num_val_samples :]\n",
        "\n",
        "print(f\"{len(text_pairs)} total pairs\")\n",
        "print(f\"{len(train_pairs)} training pairs\")\n",
        "print(f\"{len(val_pairs)} validation pairs\")\n",
        "print(f\"{len(test_pairs)} test pairs\")"
      ]
    },
    {
      "cell_type": "markdown",
      "metadata": {
        "id": "0sLu1IKZurcl"
      },
      "source": [
        "## Vectorizing the text data\n",
        "\n",
        "We'll use two instances of the `TextVectorization` layer to vectorize the text\n",
        "data (one for English and one for Spanish),\n",
        "that is to say, to turn the original strings into integer sequences\n",
        "where each integer represents the index of a word in a vocabulary.\n",
        "\n",
        "The English layer will use the default string standardization (strip punctuation characters)\n",
        "and splitting scheme (split on whitespace), while\n",
        "the Spanish layer will use a custom standardization, where we add the character\n",
        "`\"¿\"` to the set of punctuation characters to be stripped.\n",
        "\n",
        "Note: in a production-grade machine translation model, I would not recommend\n",
        "stripping the punctuation characters in either language. Instead, I would recommend turning\n",
        "each punctuation character into its own token,\n",
        "which you could achieve by providing a custom `split` function to the `TextVectorization` layer."
      ]
    },
    {
      "cell_type": "code",
      "execution_count": 6,
      "metadata": {
        "id": "ezoBiZEmurcm"
      },
      "outputs": [],
      "source": [
        "strip_chars = string.punctuation + \"¿\"\n",
        "strip_chars = strip_chars.replace(\"[\", \"\")\n",
        "strip_chars = strip_chars.replace(\"]\", \"\")\n",
        "\n",
        "vocab_size = 15000\n",
        "sequence_length = 20\n",
        "batch_size = 64\n",
        "\n",
        "\n",
        "def custom_standardization(input_string):\n",
        "    lowercase = tf.strings.lower(input_string)\n",
        "    return tf.strings.regex_replace(lowercase, \"[%s]\" % re.escape(strip_chars), \"\")\n",
        "\n",
        "\n",
        "eng_vectorization = TextVectorization(\n",
        "    max_tokens=vocab_size, output_mode=\"int\", output_sequence_length=sequence_length,\n",
        ")\n",
        "spa_vectorization = TextVectorization(\n",
        "    max_tokens=vocab_size,\n",
        "    output_mode=\"int\",\n",
        "    output_sequence_length=sequence_length + 1,\n",
        "    standardize=custom_standardization,\n",
        ")\n",
        "train_eng_texts = [pair[0] for pair in train_pairs]\n",
        "train_spa_texts = [pair[1] for pair in train_pairs]\n",
        "eng_vectorization.adapt(train_eng_texts)\n",
        "spa_vectorization.adapt(train_spa_texts)"
      ]
    },
    {
      "cell_type": "markdown",
      "metadata": {
        "id": "dA4yzMe-urcm"
      },
      "source": [
        "Next, we'll format our datasets.\n",
        "\n",
        "At each training step, the model will seek to predict target words N+1 (and beyond)\n",
        "using the source sentence and the target words 0 to N.\n",
        "\n",
        "As such, the training dataset will yield a tuple `(inputs, targets)`, where:\n",
        "\n",
        "- `inputs` is a dictionary with the keys `encoder_inputs` and `decoder_inputs`.\n",
        "`encoder_inputs` is the vectorized source sentence and `encoder_inputs` is the target sentence \"so far\",\n",
        "that is to say, the words 0 to N used to predict word N+1 (and beyond) in the target sentence.\n",
        "- `target` is the target sentence offset by one step:\n",
        "it provides the next words in the target sentence -- what the model will try to predict."
      ]
    },
    {
      "cell_type": "code",
      "execution_count": 7,
      "metadata": {
        "id": "s5RU_DDcurcn"
      },
      "outputs": [],
      "source": [
        "\n",
        "def format_dataset(eng, spa):\n",
        "    eng = eng_vectorization(eng)\n",
        "    spa = spa_vectorization(spa)\n",
        "    return ({\"encoder_inputs\": eng, \"decoder_inputs\": spa[:, :-1],}, spa[:, 1:])\n",
        "\n",
        "\n",
        "def make_dataset(pairs):\n",
        "    eng_texts, spa_texts = zip(*pairs)\n",
        "    eng_texts = list(eng_texts)\n",
        "    spa_texts = list(spa_texts)\n",
        "    dataset = tf.data.Dataset.from_tensor_slices((eng_texts, spa_texts))\n",
        "    dataset = dataset.batch(batch_size)\n",
        "    dataset = dataset.map(format_dataset)\n",
        "    return dataset.shuffle(2048).prefetch(16).cache()\n",
        "\n",
        "\n",
        "train_ds = make_dataset(train_pairs)\n",
        "val_ds = make_dataset(val_pairs)"
      ]
    },
    {
      "cell_type": "markdown",
      "metadata": {
        "id": "t4FqVbYAurcn"
      },
      "source": [
        "Let's take a quick look at the sequence shapes\n",
        "(we have batches of 64 pairs, and all sequences are 20 steps long):"
      ]
    },
    {
      "cell_type": "code",
      "execution_count": 8,
      "metadata": {
        "colab": {
          "base_uri": "https://localhost:8080/"
        },
        "id": "EIiQQgg4urcn",
        "outputId": "04f8d3e7-72a8-4d69-d844-20d930e19396"
      },
      "outputs": [
        {
          "output_type": "stream",
          "name": "stdout",
          "text": [
            "inputs[\"encoder_inputs\"].shape: (64, 20)\n",
            "inputs[\"decoder_inputs\"].shape: (64, 20)\n",
            "targets.shape: (64, 20)\n"
          ]
        }
      ],
      "source": [
        "for inputs, targets in train_ds.take(1):\n",
        "    print(f'inputs[\"encoder_inputs\"].shape: {inputs[\"encoder_inputs\"].shape}')\n",
        "    print(f'inputs[\"decoder_inputs\"].shape: {inputs[\"decoder_inputs\"].shape}')\n",
        "    print(f\"targets.shape: {targets.shape}\")"
      ]
    },
    {
      "cell_type": "markdown",
      "metadata": {
        "id": "d51627Whurco"
      },
      "source": [
        "## Building the model\n",
        "\n",
        "Our sequence-to-sequence Transformer consists of a `TransformerEncoder`\n",
        "and a `TransformerDecoder` chained together. To make the model aware of word order,\n",
        "we also use a `PositionalEmbedding` layer.\n",
        "\n",
        "The source sequence will be pass to the `TransformerEncoder`,\n",
        "which will produce a new representation of it.\n",
        "This new representation will then be passed\n",
        "to the `TransformerDecoder`, together with the target sequence so far (target words 0 to N).\n",
        "The `TransformerDecoder` will then seek to predict the next words in the target sequence (N+1 and beyond).\n",
        "\n",
        "A key detail that makes this possible is causal masking\n",
        "(see method `get_causal_attention_mask()` on the `TransformerDecoder`).\n",
        "The `TransformerDecoder` sees the entire sequences at once, and thus we must make\n",
        "sure that it only uses information from target tokens 0 to N when predicting token N+1\n",
        "(otherwise, it could use information from the future, which would\n",
        "result in a model that cannot be used at inference time)."
      ]
    },
    {
      "cell_type": "code",
      "execution_count": 9,
      "metadata": {
        "id": "kWNaAx8eurco"
      },
      "outputs": [],
      "source": [
        "\n",
        "class TransformerEncoder(layers.Layer):\n",
        "    def __init__(self, embed_dim, dense_dim, num_heads, **kwargs):\n",
        "        super(TransformerEncoder, self).__init__(**kwargs)\n",
        "        self.embed_dim = embed_dim\n",
        "        self.dense_dim = dense_dim\n",
        "        self.num_heads = num_heads\n",
        "        self.attention = layers.MultiHeadAttention(\n",
        "            num_heads=num_heads, key_dim=embed_dim\n",
        "        )\n",
        "        self.dense_proj = keras.Sequential(\n",
        "            [layers.Dense(dense_dim, activation=\"relu\"), layers.Dense(embed_dim),]\n",
        "        )\n",
        "        self.layernorm_1 = layers.LayerNormalization()\n",
        "        self.layernorm_2 = layers.LayerNormalization()\n",
        "        self.supports_masking = True\n",
        "\n",
        "    def call(self, inputs, mask=None):\n",
        "        if mask is not None:\n",
        "            padding_mask = tf.cast(mask[:, tf.newaxis, tf.newaxis, :], dtype=\"int32\")\n",
        "        attention_output = self.attention(\n",
        "            query=inputs, value=inputs, key=inputs, attention_mask=padding_mask\n",
        "        )\n",
        "        proj_input = self.layernorm_1(inputs + attention_output)\n",
        "        proj_output = self.dense_proj(proj_input)\n",
        "        return self.layernorm_2(proj_input + proj_output)\n",
        "\n",
        "\n",
        "class PositionalEmbedding(layers.Layer):\n",
        "    def __init__(self, sequence_length, vocab_size, embed_dim, **kwargs):\n",
        "        super(PositionalEmbedding, self).__init__(**kwargs)\n",
        "        self.token_embeddings = layers.Embedding(\n",
        "            input_dim=vocab_size, output_dim=embed_dim\n",
        "        )\n",
        "        self.position_embeddings = layers.Embedding(\n",
        "            input_dim=sequence_length, output_dim=embed_dim\n",
        "        )\n",
        "        self.sequence_length = sequence_length\n",
        "        self.vocab_size = vocab_size\n",
        "        self.embed_dim = embed_dim\n",
        "\n",
        "    def call(self, inputs):\n",
        "        length = tf.shape(inputs)[-1]\n",
        "        positions = tf.range(start=0, limit=length, delta=1)\n",
        "        embedded_tokens = self.token_embeddings(inputs)\n",
        "        embedded_positions = self.position_embeddings(positions)\n",
        "        return embedded_tokens + embedded_positions\n",
        "\n",
        "    def compute_mask(self, inputs, mask=None):\n",
        "        return tf.math.not_equal(inputs, 0)\n",
        "\n",
        "\n",
        "class TransformerDecoder(layers.Layer):\n",
        "    def __init__(self, embed_dim, latent_dim, num_heads, **kwargs):\n",
        "        super(TransformerDecoder, self).__init__(**kwargs)\n",
        "        self.embed_dim = embed_dim\n",
        "        self.latent_dim = latent_dim\n",
        "        self.num_heads = num_heads\n",
        "        self.attention_1 = layers.MultiHeadAttention(\n",
        "            num_heads=num_heads, key_dim=embed_dim\n",
        "        )\n",
        "        self.attention_2 = layers.MultiHeadAttention(\n",
        "            num_heads=num_heads, key_dim=embed_dim\n",
        "        )\n",
        "        self.dense_proj = keras.Sequential(\n",
        "            [layers.Dense(latent_dim, activation=\"relu\"), layers.Dense(embed_dim),]\n",
        "        )\n",
        "        self.layernorm_1 = layers.LayerNormalization()\n",
        "        self.layernorm_2 = layers.LayerNormalization()\n",
        "        self.layernorm_3 = layers.LayerNormalization()\n",
        "        self.supports_masking = True\n",
        "\n",
        "    def call(self, inputs, encoder_outputs, mask=None):\n",
        "        causal_mask = self.get_causal_attention_mask(inputs)\n",
        "        if mask is not None:\n",
        "            padding_mask = tf.cast(mask[:, tf.newaxis, :], dtype=\"int32\")\n",
        "            padding_mask = tf.minimum(padding_mask, causal_mask)\n",
        "\n",
        "        attention_output_1 = self.attention_1(\n",
        "            query=inputs, value=inputs, key=inputs, attention_mask=causal_mask\n",
        "        )\n",
        "        out_1 = self.layernorm_1(inputs + attention_output_1)\n",
        "\n",
        "        attention_output_2 = self.attention_2(\n",
        "            query=out_1,\n",
        "            value=encoder_outputs,\n",
        "            key=encoder_outputs,\n",
        "            attention_mask=padding_mask,\n",
        "        )\n",
        "        out_2 = self.layernorm_2(out_1 + attention_output_2)\n",
        "\n",
        "        proj_output = self.dense_proj(out_2)\n",
        "        return self.layernorm_3(out_2 + proj_output)\n",
        "\n",
        "    def get_causal_attention_mask(self, inputs):\n",
        "        input_shape = tf.shape(inputs)\n",
        "        batch_size, sequence_length = input_shape[0], input_shape[1]\n",
        "        i = tf.range(sequence_length)[:, tf.newaxis]\n",
        "        j = tf.range(sequence_length)\n",
        "        mask = tf.cast(i >= j, dtype=\"int32\")\n",
        "        mask = tf.reshape(mask, (1, input_shape[1], input_shape[1]))\n",
        "        mult = tf.concat(\n",
        "            [tf.expand_dims(batch_size, -1), tf.constant([1, 1], dtype=tf.int32)],\n",
        "            axis=0,\n",
        "        )\n",
        "        return tf.tile(mask, mult)\n"
      ]
    },
    {
      "cell_type": "markdown",
      "metadata": {
        "id": "4UQej3DMurco"
      },
      "source": [
        "Next, we assemble the end-to-end model."
      ]
    },
    {
      "cell_type": "code",
      "execution_count": 10,
      "metadata": {
        "id": "ruUSEEhvurco"
      },
      "outputs": [],
      "source": [
        "embed_dim = 256\n",
        "latent_dim = 2048\n",
        "num_heads = 8\n",
        "\n",
        "encoder_inputs = keras.Input(shape=(None,), dtype=\"int64\", name=\"encoder_inputs\")\n",
        "x = PositionalEmbedding(sequence_length, vocab_size, embed_dim)(encoder_inputs)\n",
        "encoder_outputs = TransformerEncoder(embed_dim, latent_dim, num_heads)(x)\n",
        "encoder = keras.Model(encoder_inputs, encoder_outputs)\n",
        "\n",
        "decoder_inputs = keras.Input(shape=(None,), dtype=\"int64\", name=\"decoder_inputs\")\n",
        "encoded_seq_inputs = keras.Input(shape=(None, embed_dim), name=\"decoder_state_inputs\")\n",
        "x = PositionalEmbedding(sequence_length, vocab_size, embed_dim)(decoder_inputs)\n",
        "x = TransformerDecoder(embed_dim, latent_dim, num_heads)(x, encoded_seq_inputs)\n",
        "x = layers.Dropout(0.5)(x)\n",
        "decoder_outputs = layers.Dense(vocab_size, activation=\"softmax\")(x)\n",
        "decoder = keras.Model([decoder_inputs, encoded_seq_inputs], decoder_outputs)\n",
        "\n",
        "decoder_outputs = decoder([decoder_inputs, encoder_outputs])\n",
        "transformer = keras.Model(\n",
        "    [encoder_inputs, decoder_inputs], decoder_outputs, name=\"transformer\"\n",
        ")"
      ]
    },
    {
      "cell_type": "markdown",
      "metadata": {
        "id": "DsG6JJOaurco"
      },
      "source": [
        "## Training our model\n",
        "\n",
        "We'll use accuracy as a quick way to monitor training progress on the validation data.\n",
        "Note that machine translation typically uses BLEU scores as well as other metrics, rather than accuracy.\n",
        "\n",
        "Here we only train for 1 epoch, but to get the model to actually converge\n",
        "you should train for at least 30 epochs."
      ]
    },
    {
      "cell_type": "code",
      "execution_count": 11,
      "metadata": {
        "colab": {
          "base_uri": "https://localhost:8080/"
        },
        "id": "3rKNAhxnurco",
        "outputId": "a00b5f2a-6815-4894-9ac6-45b69fe2fdf9"
      },
      "outputs": [
        {
          "output_type": "stream",
          "name": "stdout",
          "text": [
            "Model: \"transformer\"\n",
            "__________________________________________________________________________________________________\n",
            " Layer (type)                   Output Shape         Param #     Connected to                     \n",
            "==================================================================================================\n",
            " encoder_inputs (InputLayer)    [(None, None)]       0           []                               \n",
            "                                                                                                  \n",
            " positional_embedding (Position  (None, None, 256)   3845120     ['encoder_inputs[0][0]']         \n",
            " alEmbedding)                                                                                     \n",
            "                                                                                                  \n",
            " decoder_inputs (InputLayer)    [(None, None)]       0           []                               \n",
            "                                                                                                  \n",
            " transformer_encoder (Transform  (None, None, 256)   3155456     ['positional_embedding[0][0]']   \n",
            " erEncoder)                                                                                       \n",
            "                                                                                                  \n",
            " model_1 (Functional)           (None, None, 15000)  12959640    ['decoder_inputs[0][0]',         \n",
            "                                                                  'transformer_encoder[0][0]']    \n",
            "                                                                                                  \n",
            "==================================================================================================\n",
            "Total params: 19,960,216\n",
            "Trainable params: 19,960,216\n",
            "Non-trainable params: 0\n",
            "__________________________________________________________________________________________________\n",
            "Epoch 1/45\n",
            "1302/1302 [==============================] - 96s 70ms/step - loss: 1.6523 - accuracy: 0.4268 - val_loss: 1.3279 - val_accuracy: 0.5133\n",
            "Epoch 2/45\n",
            "1302/1302 [==============================] - 91s 70ms/step - loss: 1.3273 - accuracy: 0.5365 - val_loss: 1.1684 - val_accuracy: 0.5708\n",
            "Epoch 3/45\n",
            "1302/1302 [==============================] - 91s 70ms/step - loss: 1.1830 - accuracy: 0.5832 - val_loss: 1.0797 - val_accuracy: 0.6053\n",
            "Epoch 4/45\n",
            "1302/1302 [==============================] - 90s 69ms/step - loss: 1.0969 - accuracy: 0.6142 - val_loss: 1.0411 - val_accuracy: 0.6248\n",
            "Epoch 5/45\n",
            "1302/1302 [==============================] - 90s 69ms/step - loss: 1.0493 - accuracy: 0.6359 - val_loss: 1.0240 - val_accuracy: 0.6334\n",
            "Epoch 6/45\n",
            "1302/1302 [==============================] - 91s 70ms/step - loss: 1.0189 - accuracy: 0.6514 - val_loss: 1.0084 - val_accuracy: 0.6416\n",
            "Epoch 7/45\n",
            "1302/1302 [==============================] - 90s 69ms/step - loss: 0.9965 - accuracy: 0.6644 - val_loss: 1.0022 - val_accuracy: 0.6473\n",
            "Epoch 8/45\n",
            "1302/1302 [==============================] - 90s 69ms/step - loss: 0.9779 - accuracy: 0.6751 - val_loss: 1.0120 - val_accuracy: 0.6440\n",
            "Epoch 9/45\n",
            "1302/1302 [==============================] - 90s 69ms/step - loss: 0.9613 - accuracy: 0.6840 - val_loss: 1.0025 - val_accuracy: 0.6531\n",
            "Epoch 10/45\n",
            "1302/1302 [==============================] - 90s 69ms/step - loss: 0.9466 - accuracy: 0.6913 - val_loss: 0.9969 - val_accuracy: 0.6562\n",
            "Epoch 11/45\n",
            "1302/1302 [==============================] - 90s 69ms/step - loss: 0.9326 - accuracy: 0.6986 - val_loss: 1.0004 - val_accuracy: 0.6568\n",
            "Epoch 12/45\n",
            "1302/1302 [==============================] - 90s 69ms/step - loss: 0.9194 - accuracy: 0.7049 - val_loss: 1.0079 - val_accuracy: 0.6559\n",
            "Epoch 13/45\n",
            "1302/1302 [==============================] - 90s 69ms/step - loss: 0.9062 - accuracy: 0.7113 - val_loss: 1.0013 - val_accuracy: 0.6593\n",
            "Epoch 14/45\n",
            "1302/1302 [==============================] - 90s 69ms/step - loss: 0.8955 - accuracy: 0.7161 - val_loss: 1.0077 - val_accuracy: 0.6597\n",
            "Epoch 15/45\n",
            "1302/1302 [==============================] - 90s 70ms/step - loss: 0.8833 - accuracy: 0.7210 - val_loss: 1.0045 - val_accuracy: 0.6638\n",
            "Epoch 16/45\n",
            "1302/1302 [==============================] - 90s 69ms/step - loss: 0.8728 - accuracy: 0.7253 - val_loss: 1.0063 - val_accuracy: 0.6621\n",
            "Epoch 17/45\n",
            "1302/1302 [==============================] - 90s 69ms/step - loss: 0.8617 - accuracy: 0.7301 - val_loss: 1.0112 - val_accuracy: 0.6624\n",
            "Epoch 18/45\n",
            "1302/1302 [==============================] - 90s 69ms/step - loss: 0.8511 - accuracy: 0.7342 - val_loss: 1.0130 - val_accuracy: 0.6628\n",
            "Epoch 19/45\n",
            "1302/1302 [==============================] - 90s 69ms/step - loss: 0.8410 - accuracy: 0.7384 - val_loss: 1.0190 - val_accuracy: 0.6606\n",
            "Epoch 20/45\n",
            "1302/1302 [==============================] - 90s 69ms/step - loss: 0.8313 - accuracy: 0.7417 - val_loss: 1.0234 - val_accuracy: 0.6657\n",
            "Epoch 21/45\n",
            "1302/1302 [==============================] - 90s 69ms/step - loss: 0.8215 - accuracy: 0.7457 - val_loss: 1.0286 - val_accuracy: 0.6630\n",
            "Epoch 22/45\n",
            "1302/1302 [==============================] - 90s 69ms/step - loss: 0.8128 - accuracy: 0.7487 - val_loss: 1.0230 - val_accuracy: 0.6678\n",
            "Epoch 23/45\n",
            "1302/1302 [==============================] - 91s 70ms/step - loss: 0.8033 - accuracy: 0.7524 - val_loss: 1.0377 - val_accuracy: 0.6642\n",
            "Epoch 24/45\n",
            "1302/1302 [==============================] - 91s 70ms/step - loss: 0.7951 - accuracy: 0.7554 - val_loss: 1.0421 - val_accuracy: 0.6647\n",
            "Epoch 25/45\n",
            "1302/1302 [==============================] - 91s 70ms/step - loss: 0.7870 - accuracy: 0.7583 - val_loss: 1.0392 - val_accuracy: 0.6656\n",
            "Epoch 26/45\n",
            "1302/1302 [==============================] - 91s 70ms/step - loss: 0.7793 - accuracy: 0.7611 - val_loss: 1.0437 - val_accuracy: 0.6674\n",
            "Epoch 27/45\n",
            "1302/1302 [==============================] - 91s 70ms/step - loss: 0.7718 - accuracy: 0.7637 - val_loss: 1.0512 - val_accuracy: 0.6646\n",
            "Epoch 28/45\n",
            "1302/1302 [==============================] - 90s 69ms/step - loss: 0.7640 - accuracy: 0.7668 - val_loss: 1.0618 - val_accuracy: 0.6659\n",
            "Epoch 29/45\n",
            "1302/1302 [==============================] - 90s 69ms/step - loss: 0.7569 - accuracy: 0.7695 - val_loss: 1.0651 - val_accuracy: 0.6556\n",
            "Epoch 30/45\n",
            "1302/1302 [==============================] - 90s 69ms/step - loss: 0.7501 - accuracy: 0.7722 - val_loss: 1.0571 - val_accuracy: 0.6664\n",
            "Epoch 31/45\n",
            "1302/1302 [==============================] - 90s 70ms/step - loss: 0.7436 - accuracy: 0.7741 - val_loss: 1.0761 - val_accuracy: 0.6609\n",
            "Epoch 32/45\n",
            "1302/1302 [==============================] - 90s 69ms/step - loss: 0.7385 - accuracy: 0.7758 - val_loss: 1.0556 - val_accuracy: 0.6667\n",
            "Epoch 33/45\n",
            "1302/1302 [==============================] - 90s 69ms/step - loss: 0.7316 - accuracy: 0.7785 - val_loss: 1.0818 - val_accuracy: 0.6646\n",
            "Epoch 34/45\n",
            "1302/1302 [==============================] - 90s 69ms/step - loss: 0.7261 - accuracy: 0.7804 - val_loss: 1.0808 - val_accuracy: 0.6658\n",
            "Epoch 35/45\n",
            "1302/1302 [==============================] - 90s 69ms/step - loss: 0.7196 - accuracy: 0.7828 - val_loss: 1.0943 - val_accuracy: 0.6613\n",
            "Epoch 36/45\n",
            "1302/1302 [==============================] - 90s 69ms/step - loss: 0.7149 - accuracy: 0.7842 - val_loss: 1.0911 - val_accuracy: 0.6645\n",
            "Epoch 37/45\n",
            "1302/1302 [==============================] - 90s 69ms/step - loss: 0.7092 - accuracy: 0.7864 - val_loss: 1.1040 - val_accuracy: 0.6625\n",
            "Epoch 38/45\n",
            "1302/1302 [==============================] - 90s 69ms/step - loss: 0.7042 - accuracy: 0.7885 - val_loss: 1.1018 - val_accuracy: 0.6643\n",
            "Epoch 39/45\n",
            "1302/1302 [==============================] - 90s 69ms/step - loss: 0.6982 - accuracy: 0.7901 - val_loss: 1.1209 - val_accuracy: 0.6499\n",
            "Epoch 40/45\n",
            "1302/1302 [==============================] - 90s 69ms/step - loss: 0.6949 - accuracy: 0.7915 - val_loss: 1.1234 - val_accuracy: 0.6619\n",
            "Epoch 41/45\n",
            "1302/1302 [==============================] - 91s 70ms/step - loss: 0.6906 - accuracy: 0.7933 - val_loss: 1.1132 - val_accuracy: 0.6614\n",
            "Epoch 42/45\n",
            "1302/1302 [==============================] - 90s 69ms/step - loss: 0.6851 - accuracy: 0.7943 - val_loss: 1.1135 - val_accuracy: 0.6652\n",
            "Epoch 43/45\n",
            "1302/1302 [==============================] - 90s 69ms/step - loss: 0.6823 - accuracy: 0.7959 - val_loss: 1.1219 - val_accuracy: 0.6645\n",
            "Epoch 44/45\n",
            "1302/1302 [==============================] - 90s 69ms/step - loss: 0.6787 - accuracy: 0.7969 - val_loss: 1.1226 - val_accuracy: 0.6637\n",
            "Epoch 45/45\n",
            "1302/1302 [==============================] - 91s 70ms/step - loss: 0.6728 - accuracy: 0.7987 - val_loss: 1.1363 - val_accuracy: 0.6603\n"
          ]
        },
        {
          "output_type": "execute_result",
          "data": {
            "text/plain": [
              "<keras.callbacks.History at 0x7f30a74f6a10>"
            ]
          },
          "metadata": {},
          "execution_count": 11
        }
      ],
      "source": [
        "epochs = 45 # This should be at least 30 for convergence\n",
        "\n",
        "transformer.summary()\n",
        "transformer.compile(\n",
        "    \"rmsprop\", loss=\"sparse_categorical_crossentropy\", metrics=[\"accuracy\"]\n",
        ")\n",
        "transformer.fit(train_ds, epochs=epochs, validation_data=val_ds)"
      ]
    },
    {
      "cell_type": "markdown",
      "metadata": {
        "id": "J111UgORurco"
      },
      "source": [
        "## Decoding test sentences\n",
        "\n",
        "Finally, let's demonstrate how to translate brand new English sentences.\n",
        "We simply feed into the model the vectorized English sentence\n",
        "as well as the target token `\"[start]\"`, then we repeatedly generated the next token, until\n",
        "we hit the token `\"[end]\"`."
      ]
    },
    {
      "cell_type": "code",
      "execution_count": 12,
      "metadata": {
        "id": "ZJLEiMH1urcp"
      },
      "outputs": [],
      "source": [
        "spa_vocab = spa_vectorization.get_vocabulary()\n",
        "spa_index_lookup = dict(zip(range(len(spa_vocab)), spa_vocab))\n",
        "max_decoded_sentence_length = 20\n",
        "\n",
        "\n",
        "def decode_sequence(input_sentence):\n",
        "    tokenized_input_sentence = eng_vectorization([input_sentence])\n",
        "    decoded_sentence = \"[start]\"\n",
        "    for i in range(max_decoded_sentence_length):\n",
        "        tokenized_target_sentence = spa_vectorization([decoded_sentence])[:, :-1]\n",
        "        predictions = transformer([tokenized_input_sentence, tokenized_target_sentence])\n",
        "\n",
        "        sampled_token_index = np.argmax(predictions[0, i, :])\n",
        "        sampled_token = spa_index_lookup[sampled_token_index]\n",
        "        decoded_sentence += \" \" + sampled_token\n",
        "\n",
        "        if sampled_token == \"[end]\":\n",
        "            break\n",
        "    return decoded_sentence\n",
        "\n",
        "\n",
        "test_eng_texts = [pair[0] for pair in test_pairs]\n",
        "for _ in range(30):\n",
        "    input_sentence = random.choice(test_eng_texts)\n",
        "    translated = decode_sequence(input_sentence)"
      ]
    },
    {
      "cell_type": "markdown",
      "metadata": {
        "id": "bOQ4bK3Jurcq"
      },
      "source": [
        "After 30 epochs, we get results such as:\n",
        "\n",
        "> She handed him the money.\n",
        "> [start] ella le pasó el dinero [end]\n",
        "\n",
        "> Tom has never heard Mary sing.\n",
        "> [start] tom nunca ha oído cantar a mary [end]\n",
        "\n",
        "> Perhaps she will come tomorrow.\n",
        "> [start] tal vez ella vendrá mañana [end]\n",
        "\n",
        "> I love to write.\n",
        "> [start] me encanta escribir [end]\n",
        "\n",
        "> His French is improving little by little.\n",
        "> [start] su francés va a [UNK] sólo un poco [end]\n",
        "\n",
        "> My hotel told me to call you.\n",
        "> [start] mi hotel me dijo que te [UNK] [end]"
      ]
    }
  ],
  "metadata": {
    "colab": {
      "collapsed_sections": [],
      "name": "neural_machine_translation_with_transformer",
      "provenance": []
    },
    "kernelspec": {
      "display_name": "Python 3",
      "language": "python",
      "name": "python3"
    },
    "language_info": {
      "codemirror_mode": {
        "name": "ipython",
        "version": 3
      },
      "file_extension": ".py",
      "mimetype": "text/x-python",
      "name": "python",
      "nbconvert_exporter": "python",
      "pygments_lexer": "ipython3",
      "version": "3.7.0"
    },
    "accelerator": "GPU"
  },
  "nbformat": 4,
  "nbformat_minor": 0
}